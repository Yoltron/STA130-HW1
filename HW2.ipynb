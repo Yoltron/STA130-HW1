{
 "cells": [
  {
   "cell_type": "code",
   "execution_count": null,
   "id": "4fe5d883",
   "metadata": {},
   "outputs": [],
   "source": [
    "import pandas as pd"
   ]
  },
  {
   "cell_type": "markdown",
   "id": "226ea3d8",
   "metadata": {},
   "source": [
    "3."
   ]
  },
  {
   "cell_type": "code",
   "execution_count": 11,
   "id": "4f9add3d",
   "metadata": {},
   "outputs": [
    {
     "data": {
      "text/plain": [
       "0.66731"
      ]
     },
     "execution_count": 11,
     "metadata": {},
     "output_type": "execute_result"
    }
   ],
   "source": [
    "import numpy as np\n",
    "doors = (1, 2, 3)\n",
    "choice = 0 \n",
    "reveal = 0\n",
    "wins = 0\n",
    "reps = 100000\n",
    "for i in range(reps):\n",
    "    win_door = np.random.choice(doors) #randomly determines which door is the winning door\n",
    "    choice = np.random.choice(doors) #randomly determines which door the player picks\n",
    "    \n",
    "    door_temp = list(doors)\n",
    "    door_temp.remove(win_door) #removes winning door from potential doors to reveal\n",
    "    if(choice != win_door): \n",
    "        door_temp.remove(choice) #removes chosen door from potential doors to reveal\n",
    "\n",
    "    \n",
    "    for j in (door_temp):\n",
    "        reveal = j #finds the door to reveal \n",
    "        \n",
    "    doors_4real = list(doors)\n",
    "    doors_4real.remove(reveal) #removes the revealed door \n",
    "    doors_4real.remove(choice) #simulates a switch\n",
    "    \n",
    "    for j in (doors_4real):\n",
    "        choice = j #final door choice (after switching)\n",
    "        \n",
    "        \n",
    "    \n",
    "    if choice == win_door: #won\n",
    "        wins+=1\n",
    "        \n",
    "wins/reps "
   ]
  },
  {
   "cell_type": "markdown",
   "id": "873baeb2",
   "metadata": {},
   "source": [
    "ChatGpt Log: https://chatgpt.com/share/66eacbe9-4dc8-8000-8cb0-1ab18a97d520"
   ]
  },
  {
   "cell_type": "markdown",
   "id": "11f2861a",
   "metadata": {},
   "source": [
    "4, 5, 6\n",
    "5.1, 5.2: https://chatgpt.com/share/66eb550c-56d8-8000-94ba-2c704175dbf9\n",
    "5.3: https://chatgpt.com/share/66eb567f-12d0-8000-8f0c-28a43fc9a2c3\n",
    "    "
   ]
  },
  {
   "cell_type": "markdown",
   "id": "ab87b388",
   "metadata": {},
   "source": [
    "6.1: The chatbot proved helpful pretty quickly, the only thing I had to do was actually ask it to explain the code.\n",
    "    It also understood what the extensions were trying to do almost immediately, and explained it without much prompting.\n",
    "    This might be because I was using my free trial of the lastest chat gpt model. \n",
    "    \n",
    "6.2: While the explanations provided by the chatbot were a bit complicated, that is likely due to the complexity of the content. There was little to no frustration in trying to obtain said explanations. \n",
    "\n",
    "6.3: Considering the quality of the explanations and the respond speed, I would rate the chatbot to be around 8.5"
   ]
  },
  {
   "cell_type": "markdown",
   "id": "1aba29d9",
   "metadata": {},
   "source": [
    "7. Although I would have preferred and was expecting the traditional textbook and theory format for a course in statistics,\n",
    "I find that AI is quite helpful in teaching the coding aspects of statistics and data science. The only issue is that I find \n",
    "it is harder to retain the information given by Chat gpt, as it is often very fragnmented and lacks the structure of textbooks and lectures."
   ]
  },
  {
   "cell_type": "code",
   "execution_count": null,
   "id": "d87d0323",
   "metadata": {},
   "outputs": [],
   "source": [
    "8.1: https://chatgpt.com/share/66ebae2a-e788-8000-a22b-85a2766763e2 "
   ]
  },
  {
   "cell_type": "code",
   "execution_count": null,
   "id": "5929fe09",
   "metadata": {},
   "outputs": [],
   "source": []
  }
 ],
 "metadata": {
  "kernelspec": {
   "display_name": "Python 3 (ipykernel)",
   "language": "python",
   "name": "python3"
  },
  "language_info": {
   "codemirror_mode": {
    "name": "ipython",
    "version": 3
   },
   "file_extension": ".py",
   "mimetype": "text/x-python",
   "name": "python",
   "nbconvert_exporter": "python",
   "pygments_lexer": "ipython3",
   "version": "3.11.6"
  }
 },
 "nbformat": 4,
 "nbformat_minor": 5
}
