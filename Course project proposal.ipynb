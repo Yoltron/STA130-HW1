{
 "cells": [
  {
   "cell_type": "code",
   "execution_count": 55,
   "id": "0db7b912",
   "metadata": {
    "scrolled": true
   },
   "outputs": [
    {
     "name": "stderr",
     "output_type": "stream",
     "text": [
      "/tmp/ipykernel_86/3839394203.py:4: DtypeWarning: Columns (408,1001,1002,1006,1007,1008,1080,1113,1115,1116,1117,1118,1119,1120,1121,1124,1125,1126,1127,1128,1213,1214,1215,1216,1217,1218,1342,1343,1344,1345,1346,1347,1348,1349,1390,1391,1393,1463,1549,1552,1555,1558,1561) have mixed types. Specify dtype option on import or set low_memory=False.\n",
      "  data = pd.read_csv(\"https://raw.githubusercontent.com/pointOfive/stat130chat130/refs/heads/main/CP/CSCS_data_anon.csv\")\n"
     ]
    },
    {
     "data": {
      "text/plain": [
       "(11431, 1779)"
      ]
     },
     "execution_count": 55,
     "metadata": {},
     "output_type": "execute_result"
    }
   ],
   "source": [
    "import pandas as pd\n",
    "from pandas import read_csv\n",
    "import matplotlib.pyplot as plt\n",
    "data = pd.read_csv(\"https://raw.githubusercontent.com/pointOfive/stat130chat130/refs/heads/main/CP/CSCS_data_anon.csv\")\n",
    "cols = pd.read_csv(\"https://raw.githubusercontent.com/pointOfive/stat130chat130/refs/heads/main/CP/var_names.csv\",\n",
    "                   na_values=[\"9999\", \"\", \" \", \"Presented but no response\", \"NA\"])\n",
    "empty = (data.isna().sum()==data.shape[0])\n",
    "data = data[empty.index[~empty]] # keep non empty columns only\n",
    "\n",
    "data.shape"
   ]
  },
  {
   "cell_type": "markdown",
   "id": "d885a54a",
   "metadata": {},
   "source": [
    "Here are some functions I used to help decide which variables to choose"
   ]
  },
  {
   "cell_type": "code",
   "execution_count": 5,
   "id": "fb484bb9",
   "metadata": {},
   "outputs": [],
   "source": [
    "def DC(dataframe, prefix):\n",
    "    \"\"\"\n",
    "    Displays columns from the DataFrame that start with the specified prefix.\n",
    "\n",
    "    Parameters:\n",
    "    dataframe (pd.DataFrame): The DataFrame to search for columns.\n",
    "    prefix (str): The prefix to filter the columns.\n",
    "\n",
    "    Returns:\n",
    "    None: The function prints the columns to the console.\n",
    "    \"\"\"\n",
    "    # Filter columns that start with the specified prefix\n",
    "    similar_columns = [col for col in dataframe.columns if col.startswith(prefix)]\n",
    "\n",
    "    # Display the columns in a nicely formatted way\n",
    "    print(f\"Columns with prefix '{prefix}':\")\n",
    "    if similar_columns:\n",
    "        for i, col in enumerate(similar_columns, 1):\n",
    "            print(f\"{i}. {col}\")\n",
    "    else:\n",
    "        print(\"No columns found with the specified prefix.\")\n",
    "        "
   ]
  },
  {
   "cell_type": "markdown",
   "id": "0b0d7408",
   "metadata": {},
   "source": [
    "ABOVE is a function to display variables of a catagory"
   ]
  },
  {
   "cell_type": "code",
   "execution_count": 6,
   "id": "11c58a57",
   "metadata": {},
   "outputs": [],
   "source": [
    "def COL(column_name):\n",
    "    non_empty_rows = data[data[column_name].notna() & (data[column_name] != '')]\n",
    "    print(non_empty_rows[column_name])"
   ]
  },
  {
   "cell_type": "markdown",
   "id": "2cc4e106",
   "metadata": {},
   "source": [
    "ABOVE is a function to display the data of a given column"
   ]
  },
  {
   "cell_type": "code",
   "execution_count": 8,
   "id": "509e4faf",
   "metadata": {},
   "outputs": [],
   "source": [
    "def question( row_name):\n",
    "    \n",
    "    \"\"\"\n",
    "    Retrieves the text corresponding to a given row name in the new_var column from the cols DataFrame.\n",
    "\n",
    "    Parameters:\n",
    "    cols (pd.DataFrame): The DataFrame containing variable names and their descriptions.\n",
    "    row_name (str): The row name in the new_var column to look up.\n",
    "\n",
    "    Returns:\n",
    "    str: The corresponding text from the text column, or a message if not found.\n",
    "    \"\"\"\n",
    "    # Check if the row_name exists in the new_var column\n",
    "    if row_name in cols['new_var'].values:\n",
    "        # Get the corresponding text\n",
    "        corresponding_text = cols.loc[cols['new_var'] == row_name, 'text'].values[0]\n",
    "        return corresponding_text\n",
    "    else:\n",
    "        return \"Row name not found in new_var column.\"\n",
    "\n",
    "# # Example usage\n",
    "# # Assuming cols is your DataFrame containing the columns new_var and text\n",
    "# # Replace 'desired_row_name' with the actual name you want to look up\n",
    "# result = get_variable_text(cols, 'desired_row_name')\n",
    "# print(result)"
   ]
  },
  {
   "cell_type": "markdown",
   "id": "c7e7ffce",
   "metadata": {},
   "source": [
    "ABOVE is a function to display the question given a variable"
   ]
  },
  {
   "cell_type": "code",
   "execution_count": 9,
   "id": "4e734df1",
   "metadata": {},
   "outputs": [],
   "source": [
    "def union(col1, col2):\n",
    "    \"\"\"\n",
    "    Returns the number of rows in the DataFrame where both specified columns have non-empty entries.\n",
    "\n",
    "    Parameters:\n",
    "    col1 (str): The name of the first column to check.\n",
    "    col2 (str): The name of the second column to check.\n",
    "\n",
    "    Returns:\n",
    "    int: The count of rows with non-empty entries in both specified columns.\n",
    "    \"\"\"\n",
    "    # Define the DataFrame to check (assumes data is defined globally)\n",
    "    dataframe = data\n",
    "\n",
    "    # Filter rows where both columns are non-null and non-empty\n",
    "    non_empty_count = dataframe[\n",
    "        (dataframe[col1].notna() & (dataframe[col1] != '')) & \n",
    "        (dataframe[col2].notna() & (dataframe[col2] != ''))\n",
    "    ].shape[0]\n",
    "    \n",
    "    print(\"Number of rows with non-empty entries in both columns:\", non_empty_count)\n",
    "    return non_empty_count\n",
    "    "
   ]
  },
  {
   "cell_type": "markdown",
   "id": "36674e9f",
   "metadata": {
    "scrolled": true
   },
   "source": [
    "QUESTION 1: DEMO_weight vs STRANGERS_dangerous\n",
    "\n",
    "A popular \"meme\" from the 2022 era was \"The more cake you eat the harder you are to kidnap\"\n",
    "\n",
    "We test if people genuinelly believe in this saying by comparing people's weight and how safe they feel with strangers\n",
    "\n"
   ]
  },
  {
   "cell_type": "code",
   "execution_count": 54,
   "id": "723254d0",
   "metadata": {},
   "outputs": [
    {
     "name": "stdout",
     "output_type": "stream",
     "text": [
      "What is your weight?\n",
      "Please rate your level of agreement with each of the following statements: - It is dangerous to talk to strangers in my neighbourhood\n"
     ]
    }
   ],
   "source": [
    "print(question(\"DEMO_weight\"))\n",
    "print()\n",
    "print(question(\"STRANGERS_dangerous\"))\n",
    "#making sure the variables make sense"
   ]
  },
  {
   "cell_type": "code",
   "execution_count": 52,
   "id": "0d70e692",
   "metadata": {},
   "outputs": [
    {
     "name": "stdout",
     "output_type": "stream",
     "text": [
      "Number of rows with non-empty entries in both columns: 1879\n"
     ]
    },
    {
     "data": {
      "text/plain": [
       "1879"
      ]
     },
     "execution_count": 52,
     "metadata": {},
     "output_type": "execute_result"
    }
   ],
   "source": [
    "union(\"DEMO_weight\", \"STRANGERS_dangerous\")\n",
    "#making sure there are at least some people who answered both questions"
   ]
  },
  {
   "cell_type": "code",
   "execution_count": 85,
   "id": "9766ac23",
   "metadata": {
    "scrolled": true
   },
   "outputs": [],
   "source": [
    "#We visualise the \"DEMO_weight\" variable with a histogram"
   ]
  },
  {
   "cell_type": "code",
   "execution_count": 86,
   "id": "de837d8d",
   "metadata": {},
   "outputs": [],
   "source": [
    "#We visualise the \"STRANGERS_dangerous\" variable with a box plot"
   ]
  },
  {
   "cell_type": "code",
   "execution_count": null,
   "id": "caf0c2b6",
   "metadata": {},
   "outputs": [],
   "source": [
    "Hypothesis: A negative correlation exists between weight and how dangerous talking to strangers is perceived to be"
   ]
  },
  {
   "cell_type": "code",
   "execution_count": null,
   "id": "acbdcb64",
   "metadata": {},
   "outputs": [],
   "source": [
    "Analysis to perform:\n",
    "    - Linear regression\n",
    "    \n",
    "Assumptions\n",
    "    - Weight is the only factor that affects how dangerous talking to strangers is perceived\n",
    "    - Perception of how dangerous talking to strangers is an accurate reflection of how likely people think \n",
    "    they are to be kidnapped"
   ]
  },
  {
   "cell_type": "markdown",
   "id": "d89e8b89",
   "metadata": {},
   "source": []
  },
  {
   "cell_type": "markdown",
   "id": "311a9bcc",
   "metadata": {},
   "source": [
    "QUESTION 2: DEMO_relationship_duration vs WELLNESS_life_satisfaction\n",
    "\n",
    "UofT students often complain about \"being single\". We suspect that they think being in a relationship will make them happier.\n",
    "\n",
    "Hence, we will compare the relationship status and life satisfaction of survey responders."
   ]
  },
  {
   "cell_type": "code",
   "execution_count": 97,
   "id": "724ef5a8",
   "metadata": {},
   "outputs": [
    {
     "name": "stdout",
     "output_type": "stream",
     "text": [
      "What is your current relationship status?\n",
      "\n",
      "On a scale of 1 to 10, How do you feel about your life as a whole right now?\n"
     ]
    }
   ],
   "source": [
    "print(question(\"DEMO_relationship_status\"))\n",
    "print()\n",
    "print(question(\"WELLNESS_life_satisfaction\"))\n",
    "#making sure the variables make sense"
   ]
  },
  {
   "cell_type": "code",
   "execution_count": null,
   "id": "afc71cb3",
   "metadata": {},
   "outputs": [],
   "source": [
    "#We visualise the \"DEMO_relationship_status\" variable with a box plot"
   ]
  },
  {
   "cell_type": "code",
   "execution_count": null,
   "id": "81c5048d",
   "metadata": {},
   "outputs": [],
   "source": [
    "#We visualise the \"WELLNESS_life_satisfaction\" variable with a box plot"
   ]
  },
  {
   "cell_type": "code",
   "execution_count": 96,
   "id": "9db525aa",
   "metadata": {
    "scrolled": true
   },
   "outputs": [
    {
     "name": "stdout",
     "output_type": "stream",
     "text": [
      "Number of rows with non-empty entries in both columns: 8348\n"
     ]
    },
    {
     "data": {
      "text/plain": [
       "8348"
      ]
     },
     "execution_count": 96,
     "metadata": {},
     "output_type": "execute_result"
    }
   ],
   "source": [
    "union(\"DEMO_relationship_status\", \"WELLNESS_life_satisfaction\")\n",
    "#making sure there are at least some people who answered both questions"
   ]
  },
  {
   "cell_type": "markdown",
   "id": "5bb320aa",
   "metadata": {},
   "source": [
    "Hypothesis: People are happier when in a relationship "
   ]
  },
  {
   "cell_type": "markdown",
   "id": "6a97107a",
   "metadata": {},
   "source": [
    "Analysis to perform:\n",
    "    - Visualization (First need to map each relationship status to a value representing how \"single\" the person is)\n",
    "    \n",
    "Assumptions\n",
    "    - The mapping of relationship status to \"singleness\" is accurate"
   ]
  },
  {
   "cell_type": "markdown",
   "id": "2efd098c",
   "metadata": {},
   "source": []
  },
  {
   "cell_type": "markdown",
   "id": "bc56b106",
   "metadata": {},
   "source": [
    "QUESTION 3: LIFESTYLE_time_use_priorities_sleep_actual vs LIFESTYLE_time_use_priorities_sleep_desired\n",
    "\n",
    "UofT students love sleep but often cannot prioritise sleep. \n",
    "\n",
    "We want to see if, in general, people who want to sleep more actually act on their desires and sleep more.\n",
    "\n",
    "Hence we will compare how much people prioritise sleep versus how much they want to prioritise sleep"
   ]
  },
  {
   "cell_type": "code",
   "execution_count": 98,
   "id": "5658c96b",
   "metadata": {},
   "outputs": [
    {
     "name": "stdout",
     "output_type": "stream",
     "text": [
      "How do YOU prioritize each of the following activities in your daily life? Note: Please answer the question based on how you actually live, not based on how you would like to live. Your top priority should be scored as a 1 and your bottom priority should be scored as a 13. You are only able to assign one activity to each priority level. It is helpful to read all the options first before assigning priority levels to each activity. - Getting enough sleep\n",
      "\n",
      "How do you WANT TO prioritize each of the following activities in your daily life? Note: Please answer the question based on how you would like to live, not based on how you actually live. Your top priority should be scored as a 1 and your bottom priority should be scored as a 13. You are only able to assign one activity to each priority level. It is helpful to read all the options first before assigning priority levels to each activity. - Getting enough sleep\n"
     ]
    }
   ],
   "source": [
    "print(question(\"LIFESTYLE_time_use_priorities_sleep_actual\"))\n",
    "print()\n",
    "print(question(\"LIFESTYLE_time_use_priorities_sleep_desired\"))\n",
    "#making sure the variables make sense"
   ]
  },
  {
   "cell_type": "code",
   "execution_count": 99,
   "id": "2a37bb96",
   "metadata": {},
   "outputs": [
    {
     "name": "stdout",
     "output_type": "stream",
     "text": [
      "Number of rows with non-empty entries in both columns: 161\n"
     ]
    },
    {
     "data": {
      "text/plain": [
       "161"
      ]
     },
     "execution_count": 99,
     "metadata": {},
     "output_type": "execute_result"
    }
   ],
   "source": [
    "union(\"LIFESTYLE_time_use_priorities_sleep_actual\", \"LIFESTYLE_time_use_priorities_sleep_desired\")\n",
    "#making sure there are at least some people who answered both questions"
   ]
  },
  {
   "cell_type": "code",
   "execution_count": null,
   "id": "46c064af",
   "metadata": {},
   "outputs": [],
   "source": [
    "#We visualise the \"LIFESTYLE_time_use_priorities_sleep_actual\" variable with a box plot"
   ]
  },
  {
   "cell_type": "code",
   "execution_count": null,
   "id": "086fd6cd",
   "metadata": {},
   "outputs": [],
   "source": [
    "#We visualise the \"LIFESTYLE_time_use_priorities_sleep_desired\" variable with a box plot"
   ]
  },
  {
   "cell_type": "markdown",
   "id": "be1e7c24",
   "metadata": {},
   "source": [
    "Hypothesis: The more people want to prioritise sleep, the more they prioritise sleep"
   ]
  },
  {
   "cell_type": "code",
   "execution_count": null,
   "id": "a8fc5437",
   "metadata": {},
   "outputs": [],
   "source": [
    "Analysis to perform:\n",
    "    - Scatter plot\n",
    "    \n",
    "Assumptions\n",
    "    - The responders accurately reported how much they prioritse sleep"
   ]
  }
 ],
 "metadata": {
  "kernelspec": {
   "display_name": "Python 3 (ipykernel)",
   "language": "python",
   "name": "python3"
  },
  "language_info": {
   "codemirror_mode": {
    "name": "ipython",
    "version": 3
   },
   "file_extension": ".py",
   "mimetype": "text/x-python",
   "name": "python",
   "nbconvert_exporter": "python",
   "pygments_lexer": "ipython3",
   "version": "3.11.6"
  }
 },
 "nbformat": 4,
 "nbformat_minor": 5
}
